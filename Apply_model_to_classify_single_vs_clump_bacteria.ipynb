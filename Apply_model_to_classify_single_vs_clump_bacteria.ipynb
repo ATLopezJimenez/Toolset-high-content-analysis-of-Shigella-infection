{
  "nbformat": 4,
  "nbformat_minor": 0,
  "metadata": {
    "kernelspec": {
      "display_name": "Python 3",
      "name": "python3"
    },
    "colab": {
      "provenance": []
    },
    "accelerator": "GPU"
  },
  "cells": [
    {
      "cell_type": "markdown",
      "metadata": {
        "id": "L2Ds3RLKvful"
      },
      "source": [
        "**General description**\n",
        "\n",
        "This notebook has been developed by Ana Teresa Lopez Jimenez @ LSHTM\n",
        "\n",
        "It has been used in the preprint: High-content superresolution microscopy and deep learning assisted analysis reveals host and bacterial heterogeneity during Shigella infection. Ana T. López-Jiménez, Dominik Brokatzky, Kamla Pillay, Tyrese Williams, Gizem Özbaykal Güler and Serge Mostowy (2024)\n",
        "\n",
        "\n",
        "This notebook allows to classify single vs. clumped rod-shape bacteria."
      ]
    },
    {
      "cell_type": "markdown",
      "source": [
        "**Preparation, import of required packages**"
      ],
      "metadata": {
        "id": "I6xMoLkSxpGz"
      }
    },
    {
      "cell_type": "code",
      "metadata": {
        "id": "gCIyh74iVsS1",
        "colab": {
          "base_uri": "https://localhost:8080/"
        },
        "outputId": "f95f56e6-795e-44f1-998c-87c1181cdd8d"
      },
      "source": [
        "from __future__ import absolute_import, division, print_function, unicode_literals\n",
        "import tensorflow as tf\n",
        "from tensorflow import keras\n",
        "import os\n",
        "import numpy as np\n",
        "import matplotlib.pyplot as plt\n",
        "from tensorflow.keras.preprocessing.image import ImageDataGenerator\n",
        "print(tf.__version__)"
      ],
      "execution_count": 1,
      "outputs": [
        {
          "output_type": "stream",
          "name": "stdout",
          "text": [
            "2.15.0\n"
          ]
        }
      ]
    },
    {
      "cell_type": "code",
      "metadata": {
        "id": "NjgR5wBvCVMB",
        "colab": {
          "base_uri": "https://localhost:8080/"
        },
        "outputId": "64886ac6-2074-41a9-e30d-14e9085fcf0d"
      },
      "source": [
        "!pip install pyyaml h5py"
      ],
      "execution_count": null,
      "outputs": [
        {
          "output_type": "stream",
          "name": "stdout",
          "text": [
            "Requirement already satisfied: pyyaml in /usr/local/lib/python3.10/dist-packages (6.0.1)\n",
            "Requirement already satisfied: h5py in /usr/local/lib/python3.10/dist-packages (3.9.0)\n",
            "Requirement already satisfied: numpy>=1.17.3 in /usr/local/lib/python3.10/dist-packages (from h5py) (1.23.5)\n"
          ]
        }
      ]
    },
    {
      "cell_type": "markdown",
      "metadata": {
        "id": "OQgRrZg4wPAs"
      },
      "source": [
        "**Data loading from google drive**\n"
      ]
    },
    {
      "cell_type": "code",
      "metadata": {
        "id": "_eIt-lBxwYPj",
        "colab": {
          "base_uri": "https://localhost:8080/"
        },
        "outputId": "2ffb663d-9294-45f2-e989-8e504c8c2cb3"
      },
      "source": [
        "from google.colab import drive\n",
        "root = '/content/gdrive/'\n",
        "drive.mount( root )"
      ],
      "execution_count": null,
      "outputs": [
        {
          "output_type": "stream",
          "name": "stdout",
          "text": [
            "Mounted at /content/gdrive/\n"
          ]
        }
      ]
    },
    {
      "cell_type": "code",
      "metadata": {
        "id": "S_n4bLb7wY8V",
        "colab": {
          "base_uri": "https://localhost:8080/"
        },
        "outputId": "445136e6-ef49-4af5-b5e4-29ad1b48c298"
      },
      "source": [
        "singles_dir_path = r'/My Drive/folder' # write here directory where files to be analysed are\n",
        "os.makedirs(root+singles_dir_path, exist_ok=True)\n",
        "os.listdir(root+singles_dir_path)\n"
      ],
      "execution_count": null,
      "outputs": [
        {
          "output_type": "execute_result",
          "data": {
            "text/plain": [
              "['all_tiff_2_crop_allchannels_singles']"
            ]
          },
          "metadata": {},
          "execution_count": 5
        }
      ]
    },
    {
      "cell_type": "markdown",
      "metadata": {
        "id": "ChvyWq5pxxAH"
      },
      "source": [
        "**Importing the Model**\n",
        "\n",
        "For this step, it is required to add the trained model \"model_classification_single_vs_clump.hdf5\" to Google drive, and specify the correct folder here below to retrieve it"
      ]
    },
    {
      "cell_type": "code",
      "metadata": {
        "id": "LqMjTzbjxzf7"
      },
      "source": [
        "from tensorflow.keras import Sequential\n",
        "from tensorflow.keras.layers import Dense,Activation, Dropout, Conv2D, MaxPooling2D, Flatten, BatchNormalization"
      ],
      "execution_count": null,
      "outputs": []
    },
    {
      "cell_type": "code",
      "metadata": {
        "id": "hjomGGHun4zj",
        "colab": {
          "base_uri": "https://localhost:8080/"
        },
        "outputId": "e4c14a7b-243f-42d3-c7b3-c5ed5c4785d2"
      },
      "source": [
        "\n",
        "new_model = tf.keras.models.load_model('/content/gdrive/My Drive/folder/model_classification_single_vs_clump.hdf5') # Specify the folder containing the model\n",
        "new_model.summary()"
      ],
      "execution_count": null,
      "outputs": [
        {
          "output_type": "stream",
          "name": "stdout",
          "text": [
            "Model: \"sequential\"\n",
            "_________________________________________________________________\n",
            " Layer (type)                Output Shape              Param #   \n",
            "=================================================================\n",
            " conv2d (Conv2D)             (None, 126, 126, 4)       40        \n",
            "                                                                 \n",
            " max_pooling2d (MaxPooling2  (None, 63, 63, 4)         0         \n",
            " D)                                                              \n",
            "                                                                 \n",
            " conv2d_1 (Conv2D)           (None, 61, 61, 8)         296       \n",
            "                                                                 \n",
            " max_pooling2d_1 (MaxPoolin  (None, 30, 30, 8)         0         \n",
            " g2D)                                                            \n",
            "                                                                 \n",
            " conv2d_2 (Conv2D)           (None, 28, 28, 16)        1168      \n",
            "                                                                 \n",
            " max_pooling2d_2 (MaxPoolin  (None, 14, 14, 16)        0         \n",
            " g2D)                                                            \n",
            "                                                                 \n",
            " conv2d_3 (Conv2D)           (None, 12, 12, 32)        4640      \n",
            "                                                                 \n",
            " max_pooling2d_3 (MaxPoolin  (None, 6, 6, 32)          0         \n",
            " g2D)                                                            \n",
            "                                                                 \n",
            " conv2d_4 (Conv2D)           (None, 4, 4, 64)          18496     \n",
            "                                                                 \n",
            " max_pooling2d_4 (MaxPoolin  (None, 2, 2, 64)          0         \n",
            " g2D)                                                            \n",
            "                                                                 \n",
            " flatten (Flatten)           (None, 256)               0         \n",
            "                                                                 \n",
            " dropout (Dropout)           (None, 256)               0         \n",
            "                                                                 \n",
            " dense (Dense)               (None, 2)                 514       \n",
            "                                                                 \n",
            " activation (Activation)     (None, 2)                 0         \n",
            "                                                                 \n",
            "=================================================================\n",
            "Total params: 25154 (98.26 KB)\n",
            "Trainable params: 25154 (98.26 KB)\n",
            "Non-trainable params: 0 (0.00 Byte)\n",
            "_________________________________________________________________\n"
          ]
        }
      ]
    },
    {
      "cell_type": "code",
      "metadata": {
        "id": "zGu-iiKo6N1H"
      },
      "source": [
        "new_model.compile(optimizer='adam',\n",
        "              loss='binary_crossentropy',\n",
        "              metrics=['accuracy'])"
      ],
      "execution_count": null,
      "outputs": []
    },
    {
      "cell_type": "code",
      "metadata": {
        "id": "04v0OL4fwzqj"
      },
      "source": [
        "BATCH_SIZE = 32\n",
        "IMG_SHAPE  = 128 # Our training data consists of images with width of 128 pixels and height of 128 pixels."
      ],
      "execution_count": null,
      "outputs": []
    },
    {
      "cell_type": "code",
      "metadata": {
        "id": "N0BUzNDl7tG2",
        "colab": {
          "base_uri": "https://localhost:8080/"
        },
        "outputId": "50ca45a1-604f-4dbe-ef5f-00ffe803377b"
      },
      "source": [
        "image_gen = ImageDataGenerator(rescale=1./255)\n",
        "\n",
        "image_data_gen = image_gen.flow_from_directory(batch_size=BATCH_SIZE,\n",
        "                                                 directory=root+singles_dir_path,\n",
        "                                                 target_size=(IMG_SHAPE, IMG_SHAPE),\n",
        "                                                 color_mode=\"grayscale\",\n",
        "                                                 class_mode='binary',\n",
        "                                                 shuffle=False)"
      ],
      "execution_count": null,
      "outputs": [
        {
          "output_type": "stream",
          "name": "stdout",
          "text": [
            "Found 626 images belonging to 1 classes.\n"
          ]
        }
      ]
    },
    {
      "cell_type": "markdown",
      "source": [
        "**Applying the model and saving results**\n",
        "\n",
        "In this step the model will be applied to generate predictions (0, 1).\n",
        "The results can be saved as a .txt document in the folder specificied here below."
      ],
      "metadata": {
        "id": "5RwVRWHFLn9S"
      }
    },
    {
      "cell_type": "code",
      "source": [
        "new_data = []\n",
        "file_names = image_data_gen.filenames\n",
        "predict_x=new_model.predict(image_data_gen)\n",
        "classes_x=[1 * (x[0]>=0.5) for x in predict_x]\n",
        "\n",
        "new_data = np.array([file_names, classes_x]).T\n",
        "print(new_data)\n",
        "np.savetxt('/content/gdrive/My Drive/folder/Results_singles.txt', new_data, fmt='%s') # Specify here the output folder\n"
      ],
      "metadata": {
        "colab": {
          "base_uri": "https://localhost:8080/"
        },
        "id": "4Nr4OmRwoRXA",
        "outputId": "c4eb5e7e-4038-4d78-91f3-20f1d4b74d4d"
      },
      "execution_count": null,
      "outputs": [
        {
          "output_type": "stream",
          "name": "stdout",
          "text": [
            "20/20 [==============================] - 4s 122ms/step\n",
            "[['all_tiff_2_crop_allchannels_singles/231011_p0042-01-Scene-01-P1-E02-AiPr-301n0.tif'\n",
            "  '0']\n",
            " ['all_tiff_2_crop_allchannels_singles/231011_p0042-01-Scene-01-P1-E02-AiPr-301n1.tif'\n",
            "  '1']\n",
            " ['all_tiff_2_crop_allchannels_singles/231011_p0042-01-Scene-01-P1-E02-AiPr-301n2.tif'\n",
            "  '0']\n",
            " ...\n",
            " ['all_tiff_2_crop_allchannels_singles/231011_p0042-02-Scene-220-P10-G11-AiPr-597n7.tif'\n",
            "  '1']\n",
            " ['all_tiff_2_crop_allchannels_singles/231011_p0042-02-Scene-220-P10-G11-AiPr-597n8.tif'\n",
            "  '1']\n",
            " ['all_tiff_2_crop_allchannels_singles/231011_p0042-02-Scene-220-P10-G11-AiPr-597n9.tif'\n",
            "  '0']]\n"
          ]
        }
      ]
    }
  ]
}