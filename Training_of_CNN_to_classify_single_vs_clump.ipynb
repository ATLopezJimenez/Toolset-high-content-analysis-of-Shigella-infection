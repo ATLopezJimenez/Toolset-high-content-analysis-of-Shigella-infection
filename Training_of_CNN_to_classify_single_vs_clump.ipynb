{
  "nbformat": 4,
  "nbformat_minor": 0,
  "metadata": {
    "kernelspec": {
      "display_name": "Python 3",
      "name": "python3"
    },
    "colab": {
      "provenance": []
    },
    "accelerator": "GPU"
  },
  "cells": [
    {
      "cell_type": "markdown",
      "source": [
        "**General description**\n",
        "\n",
        "This notebook has been developed by Ana Teresa Lopez Jimenez @ LSHTM\n",
        "\n",
        "It has been used in the preprint: High-content high-resolution microscopy and deep learning assisted analysis reveals host and bacterial heterogeneity during *Shigella* infection. Ana T. López-Jiménez, Dominik Brokatzky, Kamla Pillay, Tyrese Williams, Gizem Özbaykal Güler and Serge Mostowy (2024)\n",
        "\n",
        "This notebook was used to classify single vs. clump bacteria."
      ],
      "metadata": {
        "id": "kFclYwiI-Ccq"
      }
    },
    {
      "cell_type": "markdown",
      "metadata": {
        "id": "L2Ds3RLKvful"
      },
      "source": [
        "**Importing packages**\n"
      ]
    },
    {
      "cell_type": "code",
      "metadata": {
        "id": "qW2WdfVEu9L1"
      },
      "source": [
        "from __future__ import absolute_import, division, print_function, unicode_literals\n",
        "import tensorflow as tf\n",
        "from tensorflow import keras\n",
        "print(tf.__version__)\n",
        "from tensorflow.keras.preprocessing.image import ImageDataGenerator\n",
        "import os\n",
        "import numpy as np\n",
        "import matplotlib.pyplot as plt\n",
        "!pip install pyyaml h5py"
      ],
      "execution_count": null,
      "outputs": []
    },
    {
      "cell_type": "markdown",
      "metadata": {
        "id": "OQgRrZg4wPAs"
      },
      "source": [
        "**Data loading**\n"
      ]
    },
    {
      "cell_type": "code",
      "metadata": {
        "id": "_eIt-lBxwYPj"
      },
      "source": [
        "from google.colab import drive\n",
        "root = '/content/gdrive/'\n",
        "drive.mount( root )"
      ],
      "execution_count": null,
      "outputs": []
    },
    {
      "cell_type": "markdown",
      "source": [
        "Input here the folder path containing the folders with annotated images to train the CNN (training and validation)"
      ],
      "metadata": {
        "id": "Z1rXx3y6_Cpf"
      }
    },
    {
      "cell_type": "code",
      "metadata": {
        "id": "S_n4bLb7wY8V"
      },
      "source": [
        "dir_path = r'/My Drive/folder' # Path of folder containing annotated data\n",
        "os.makedirs(root+dir_path, exist_ok=True)\n",
        "os.listdir(root+dir_path)\n"
      ],
      "execution_count": null,
      "outputs": []
    },
    {
      "cell_type": "markdown",
      "metadata": {
        "id": "t9F-ZW9OwfJq"
      },
      "source": [
        "**Setting Model Parameters**"
      ]
    },
    {
      "cell_type": "code",
      "metadata": {
        "id": "04v0OL4fwzqj"
      },
      "source": [
        "BATCH_SIZE = 32\n",
        "IMG_SHAPE  = 128 # Our training data consists of images with width of 128 pixels and height of 128 pixels"
      ],
      "execution_count": null,
      "outputs": []
    },
    {
      "cell_type": "markdown",
      "metadata": {
        "id": "2MZ7F-A_w57Z"
      },
      "source": [
        "**Data augmentation for training dataset**\n"
      ]
    },
    {
      "cell_type": "code",
      "metadata": {
        "id": "GgUC6YG8xN__"
      },
      "source": [
        "image_gen_train = ImageDataGenerator(\n",
        "      rescale=1./255,\n",
        "      rotation_range=90,\n",
        "      shear_range=0.2,\n",
        "      horizontal_flip=True,\n",
        "      fill_mode='nearest')\n",
        "\n",
        "\n",
        "train_data_gen = image_gen_train.flow_from_directory(batch_size=BATCH_SIZE,\n",
        "                                                     directory=root+dir_path + '/training', # change name if necessary for folder containing training data\n",
        "                                                     shuffle=True,\n",
        "                                                     target_size=(IMG_SHAPE,IMG_SHAPE),\n",
        "                                                     color_mode=\"grayscale\",\n",
        "                                                     class_mode='binary')"
      ],
      "execution_count": null,
      "outputs": []
    },
    {
      "cell_type": "code",
      "metadata": {
        "id": "saneGKHmFkgx"
      },
      "source": [
        "train_data_gen.class_indices # Indices for each category or class"
      ],
      "execution_count": null,
      "outputs": []
    },
    {
      "cell_type": "markdown",
      "metadata": {
        "id": "SyPHy-n-xfLm"
      },
      "source": [
        "**Creating a validation data generator**\n"
      ]
    },
    {
      "cell_type": "code",
      "metadata": {
        "id": "OC9l-TTHxY2Q"
      },
      "source": [
        "image_gen_val = ImageDataGenerator(rescale=1./255)\n",
        "\n",
        "val_data_gen = image_gen_val.flow_from_directory(batch_size=BATCH_SIZE,\n",
        "                                                 directory=root+dir_path + '/validation', # change name if necessary for folder containing validation data\n",
        "                                                 target_size=(IMG_SHAPE, IMG_SHAPE),\n",
        "                                                 color_mode=\"grayscale\",\n",
        "                                                 class_mode='binary')"
      ],
      "execution_count": null,
      "outputs": []
    },
    {
      "cell_type": "markdown",
      "metadata": {
        "id": "ChvyWq5pxxAH"
      },
      "source": [
        "**Generating a Model**"
      ]
    },
    {
      "cell_type": "code",
      "metadata": {
        "id": "LqMjTzbjxzf7"
      },
      "source": [
        "from tensorflow.python.keras import Sequential\n",
        "from tensorflow.python.keras.layers import Dense,Activation, Dropout, Conv2D, MaxPooling2D, Flatten, BatchNormalization"
      ],
      "execution_count": null,
      "outputs": []
    },
    {
      "cell_type": "markdown",
      "source": [
        "Model will be saved when minima for validation loss is found in the path specified below"
      ],
      "metadata": {
        "id": "i_6ilStzAJUr"
      }
    },
    {
      "cell_type": "code",
      "metadata": {
        "id": "o1PbKM8PPs9Z"
      },
      "source": [
        "from tensorflow.python.keras.callbacks import ModelCheckpoint\n",
        "model_path = '/content/gdrive/My Drive/folder/model.hdf5' # specify folder to save model.\n",
        "best_model = ModelCheckpoint(filepath = model_path,\n",
        "                             monitor='val_loss',\n",
        "                             save_weights_only=False,\n",
        "                             mode='min',\n",
        "                             save_best_only=True,\n",
        "                             verbose=1)"
      ],
      "execution_count": null,
      "outputs": []
    },
    {
      "cell_type": "code",
      "metadata": {
        "id": "70fvQowXx2D2"
      },
      "source": [
        "model_single = Sequential([\n",
        "     Conv2D(4,(3,3), activation = 'relu', input_shape = (128,128,1)),\n",
        "     MaxPooling2D(pool_size=(2,2)),\n",
        "\n",
        "     Conv2D(8,(3,3), activation = 'relu'),\n",
        "     MaxPooling2D(pool_size=(2,2)),\n",
        "\n",
        "     Conv2D(16,(3,3), activation = 'relu'),\n",
        "     MaxPooling2D(pool_size=(2,2)),\n",
        "\n",
        "     Conv2D(32,(3,3), activation = 'relu'),\n",
        "     MaxPooling2D(pool_size=(2,2)),\n",
        "\n",
        "     Conv2D(64,(3,3), activation = 'relu'),\n",
        "     MaxPooling2D(pool_size=(2,2)),\n",
        "\n",
        "     Flatten(),\n",
        "     Dropout(0.3),\n",
        "\n",
        "     Dense(2),\n",
        "     Activation('softmax'),\n",
        " ])"
      ],
      "execution_count": null,
      "outputs": []
    },
    {
      "cell_type": "code",
      "metadata": {
        "id": "XMpdmdcIyKCX"
      },
      "source": [
        "model_single.summary()"
      ],
      "execution_count": null,
      "outputs": []
    },
    {
      "cell_type": "markdown",
      "metadata": {
        "id": "W9GEGhDUx7xE"
      },
      "source": [
        "**Compiling the model**"
      ]
    },
    {
      "cell_type": "code",
      "metadata": {
        "id": "iSlzOAWhx-P3"
      },
      "source": [
        "model_single.compile(optimizer='adam',\n",
        "              loss='sparse_categorical_crossentropy',\n",
        "              metrics=['accuracy'])"
      ],
      "execution_count": null,
      "outputs": []
    },
    {
      "cell_type": "markdown",
      "metadata": {
        "id": "jtn-pSRrySl7"
      },
      "source": [
        "**Training the model**\n",
        "\n"
      ]
    },
    {
      "cell_type": "code",
      "metadata": {
        "id": "rRt4jZDRycYy"
      },
      "source": [
        "try:\n",
        "  # %tensorflow_version only exists in Colab.\n",
        "  %tensorflow_version 2.x\n",
        "except Exception:\n",
        "  pass\n",
        "\n",
        "# Load the TensorBoard notebook extension\n",
        "%load_ext tensorboard"
      ],
      "execution_count": null,
      "outputs": []
    },
    {
      "cell_type": "code",
      "metadata": {
        "id": "he_Ca7zVzDb_"
      },
      "source": [
        "import datetime, os"
      ],
      "execution_count": null,
      "outputs": []
    },
    {
      "cell_type": "code",
      "metadata": {
        "id": "4GPYDxetzy1I"
      },
      "source": [
        "logdir = os.path.join(\"logs\", datetime.datetime.now().strftime(\"%Y%m%d-%H%M%S\"))\n",
        "tensorboard_callback = tf.keras.callbacks.TensorBoard(logdir, histogram_freq=1)"
      ],
      "execution_count": null,
      "outputs": []
    },
    {
      "cell_type": "code",
      "metadata": {
        "id": "lAY4KBYWynAP"
      },
      "source": [
        "%tensorboard --logdir logs"
      ],
      "execution_count": null,
      "outputs": []
    },
    {
      "cell_type": "code",
      "metadata": {
        "id": "UHcDDc0-yiAs"
      },
      "source": [
        "epochs=100\n",
        "history = model_single.fit_generator(\n",
        "    train_data_gen,\n",
        "    steps_per_epoch=train_data_gen.samples\n",
        "    epochs=epochs,\n",
        "    validation_data=val_data_gen,\n",
        "    validation_steps=val_data_gen.samples\n",
        "    callbacks=[tensorboard_callback, best_model]\n",
        ")"
      ],
      "execution_count": null,
      "outputs": []
    }
  ]
}
