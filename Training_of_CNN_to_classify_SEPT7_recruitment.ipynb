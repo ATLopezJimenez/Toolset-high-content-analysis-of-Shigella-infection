{
  "cells": [
    {
      "cell_type": "markdown",
      "source": [
        "**General description**\n",
        "\n",
        "This notebook has been developed by Ana Teresa Lopez Jimenez @ LSHTM\n",
        "\n",
        "It has been used in the preprint: High-content high-resolution microscopy and deep learning assisted analysis reveals host and bacterial heterogeneity during *Shigella* infection. Ana T. López-Jiménez, Dominik Brokatzky, Kamla Pillay, Tyrese Williams, Gizem Özbaykal Güler and Serge Mostowy (2024)\n",
        "\n",
        "This notebook was used to classify SEPT7 recruitment to *S. flexneri*."
      ],
      "metadata": {
        "id": "SQuDQX8Z-OPy"
      }
    },
    {
      "cell_type": "markdown",
      "metadata": {
        "id": "L2Ds3RLKvful"
      },
      "source": [
        "**Importing packages**\n"
      ]
    },
    {
      "cell_type": "code",
      "execution_count": null,
      "metadata": {
        "id": "qW2WdfVEu9L1"
      },
      "outputs": [],
      "source": [
        "from __future__ import absolute_import, division, print_function, unicode_literals\n",
        "import tensorflow as tf\n",
        "from tensorflow import keras\n",
        "print(tf.__version__)\n",
        "from tensorflow.keras.preprocessing.image import ImageDataGenerator\n",
        "import os\n",
        "import numpy as np\n",
        "import matplotlib.pyplot as plt"
      ]
    },
    {
      "cell_type": "markdown",
      "metadata": {
        "id": "OQgRrZg4wPAs"
      },
      "source": [
        "**Data loading**\n"
      ]
    },
    {
      "cell_type": "code",
      "execution_count": null,
      "metadata": {
        "id": "_eIt-lBxwYPj"
      },
      "outputs": [],
      "source": [
        "from google.colab import drive\n",
        "root = '/content/gdrive/'\n",
        "drive.mount( root )"
      ]
    },
    {
      "cell_type": "markdown",
      "source": [
        "Input here the folder path containing the folders with annotated images to train the CNN (training and validation)"
      ],
      "metadata": {
        "id": "x2RSf0KVByl2"
      }
    },
    {
      "cell_type": "code",
      "execution_count": null,
      "metadata": {
        "id": "S_n4bLb7wY8V"
      },
      "outputs": [],
      "source": [
        "septin_dir_path = r'/My Drive/folder' # Path of folder containing annotated data\n",
        "os.makedirs(root+septin_dir_path, exist_ok=True)\n",
        "os.listdir(root+septin_dir_path)\n"
      ]
    },
    {
      "cell_type": "markdown",
      "metadata": {
        "id": "t9F-ZW9OwfJq"
      },
      "source": [
        "**Setting Model Parameters**\n"
      ]
    },
    {
      "cell_type": "code",
      "execution_count": null,
      "metadata": {
        "id": "04v0OL4fwzqj"
      },
      "outputs": [],
      "source": [
        "BATCH_SIZE = 32\n",
        "IMG_SHAPE  = 128 # Our training data consists of images with width of 128 pixels and height of 128 pixels"
      ]
    },
    {
      "cell_type": "code",
      "execution_count": null,
      "metadata": {
        "id": "saneGKHmFkgx"
      },
      "outputs": [],
      "source": [
        "train_data_gen.class_indices # Indices for each category or class"
      ]
    },
    {
      "cell_type": "markdown",
      "metadata": {
        "id": "SyPHy-n-xfLm"
      },
      "source": [
        "**Creating a validation data generator**"
      ]
    },
    {
      "cell_type": "code",
      "execution_count": null,
      "metadata": {
        "id": "OC9l-TTHxY2Q"
      },
      "outputs": [],
      "source": [
        "image_gen_val = ImageDataGenerator(\n",
        "    rescale=1./255,\n",
        "    fill_mode='nearest',)\n",
        "\n",
        "val_data_gen = image_gen_val.flow_from_directory(batch_size=BATCH_SIZE,\n",
        "                                                 directory=root+septin_dir_path + '/validation', # change name if necessary for folder containing validation data\n",
        "                                                 target_size=(IMG_SHAPE, IMG_SHAPE),\n",
        "                                                 class_mode='binary')"
      ]
    },
    {
      "cell_type": "markdown",
      "metadata": {
        "id": "ChvyWq5pxxAH"
      },
      "source": [
        "**Generating a Model**"
      ]
    },
    {
      "cell_type": "code",
      "execution_count": null,
      "metadata": {
        "id": "LqMjTzbjxzf7"
      },
      "outputs": [],
      "source": [
        "from tensorflow.keras import Model\n",
        "from tensorflow.keras import Sequential # Model type to be used\n",
        "from tensorflow.keras.layers import Dense,Activation, Dropout, Conv2D, MaxPooling2D, Flatten, BatchNormalization"
      ]
    },
    {
      "cell_type": "code",
      "execution_count": null,
      "metadata": {
        "id": "70fvQowXx2D2"
      },
      "outputs": [],
      "source": [
        "model_septin = Sequential([\n",
        "\n",
        "     Conv2D(4,(3,3), activation = 'relu', input_shape = (128,128,3)),\n",
        "     BatchNormalization(),\n",
        "     MaxPooling2D(pool_size=(2,2)),\n",
        "\n",
        "     Conv2D(8,(3,3), activation = 'relu'),\n",
        "     BatchNormalization(),\n",
        "     MaxPooling2D(pool_size=(2,2)),\n",
        "\n",
        "     Conv2D(16,(3,3), activation = 'relu'),\n",
        "     Conv2D(16,(3,3), activation = 'relu'),\n",
        "     BatchNormalization(),\n",
        "     MaxPooling2D(pool_size=(2,2)),\n",
        "\n",
        "     Conv2D(32,(3,3), activation = 'relu'),\n",
        "     Conv2D(32,(3,3), activation = 'relu'),\n",
        "     BatchNormalization(),\n",
        "     MaxPooling2D(pool_size=(2,2)),\n",
        "\n",
        "     Conv2D(64,(3,3), activation = 'relu'),\n",
        "     BatchNormalization(),\n",
        "     MaxPooling2D(pool_size=(2,2)),\n",
        "     Flatten(),\n",
        "     Dense(300),\n",
        "     Activation('relu'),\n",
        "     Dense(1),\n",
        "     Activation('sigmoid'),\n",
        "  ])\n"
      ]
    },
    {
      "cell_type": "code",
      "execution_count": null,
      "metadata": {
        "id": "XMpdmdcIyKCX"
      },
      "outputs": [],
      "source": [
        "model_septin.summary()"
      ]
    },
    {
      "cell_type": "markdown",
      "metadata": {
        "id": "W9GEGhDUx7xE"
      },
      "source": [
        "**Compiling the model**"
      ]
    },
    {
      "cell_type": "code",
      "execution_count": null,
      "metadata": {
        "id": "iSlzOAWhx-P3"
      },
      "outputs": [],
      "source": [
        "optimizer = keras.optimizers.Adam(learning_rate=0.01)\n",
        "\n",
        "model_septin.compile(optimizer=optimizer,\n",
        "              loss='binary_crossentropy',\n",
        "              metrics=['accuracy'])\n"
      ]
    },
    {
      "cell_type": "markdown",
      "metadata": {
        "id": "jtn-pSRrySl7"
      },
      "source": [
        "**Training the model**\n"
      ]
    },
    {
      "cell_type": "code",
      "execution_count": null,
      "metadata": {
        "id": "rRt4jZDRycYy"
      },
      "outputs": [],
      "source": [
        "try:\n",
        "  # %tensorflow_version only exists in Colab.\n",
        "  %tensorflow_version 2.x\n",
        "except Exception:\n",
        "  pass\n",
        "\n",
        "# Load the TensorBoard notebook extension\n",
        "%load_ext tensorboard"
      ]
    },
    {
      "cell_type": "code",
      "execution_count": null,
      "metadata": {
        "id": "he_Ca7zVzDb_"
      },
      "outputs": [],
      "source": [
        "import datetime, os"
      ]
    },
    {
      "cell_type": "code",
      "execution_count": null,
      "metadata": {
        "id": "4GPYDxetzy1I"
      },
      "outputs": [],
      "source": [
        "logdir = os.path.join(\"logs\", datetime.datetime.now().strftime(\"%Y%m%d-%H%M%S\"))\n",
        "tensorboard_callback = tf.keras.callbacks.TensorBoard(logdir, histogram_freq=1)"
      ]
    },
    {
      "cell_type": "code",
      "source": [
        "%tensorboard --logdir logs"
      ],
      "metadata": {
        "id": "aiFM-UmVDrpI"
      },
      "execution_count": null,
      "outputs": []
    },
    {
      "cell_type": "markdown",
      "source": [
        "Model will be saved when minima for validation loss is found in the path specified below"
      ],
      "metadata": {
        "id": "7mcZh9hCEiHq"
      }
    },
    {
      "cell_type": "code",
      "execution_count": null,
      "metadata": {
        "id": "El-e8lUYrPs0"
      },
      "outputs": [],
      "source": [
        "from tensorflow.keras.callbacks import ModelCheckpoint\n",
        "model_path = '/content/gdrive/My Drive/folder/model_septin.hdf5' # specify folder to save model.\n",
        "best_model = ModelCheckpoint(filepath = model_path,\n",
        "                             monitor='val_loss',\n",
        "                             save_weights_only=False,\n",
        "                             mode='min',\n",
        "                             save_best_only=True,\n",
        "                             verbose=1)"
      ]
    },
    {
      "cell_type": "code",
      "execution_count": null,
      "metadata": {
        "id": "UHcDDc0-yiAs"
      },
      "outputs": [],
      "source": [
        "epochs=500\n",
        "history = model_septin.fit(\n",
        "    train_data_gen,\n",
        "    steps_per_epoch=train_data_gen.samples\n",
        "    epochs=epochs,\n",
        "    validation_data=val_data_gen,\n",
        "    validation_steps=val_data_gen.samples\n",
        "    callbacks=[tensorboard_callback, best_model]\n",
        ")"
      ]
    }
  ],
  "metadata": {
    "accelerator": "GPU",
    "colab": {
      "provenance": []
    },
    "kernelspec": {
      "display_name": "Python 3",
      "name": "python3"
    }
  },
  "nbformat": 4,
  "nbformat_minor": 0
}
