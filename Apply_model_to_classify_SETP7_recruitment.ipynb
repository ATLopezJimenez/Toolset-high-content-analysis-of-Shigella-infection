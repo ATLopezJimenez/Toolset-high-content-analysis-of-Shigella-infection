{
  "nbformat": 4,
  "nbformat_minor": 0,
  "metadata": {
    "accelerator": "GPU",
    "colab": {
      "provenance": []
    },
    "kernelspec": {
      "display_name": "Python 3",
      "name": "python3"
    }
  },
  "cells": [
    {
      "cell_type": "markdown",
      "source": [
        "**General description**\n",
        "\n",
        "This notebook has been developed by Ana Teresa Lopez Jimenez @ LSHTM\n",
        "\n",
        "It has been used in the preprint: High-content high-resolution microscopy and deep learning assisted analysis reveals host and bacterial heterogeneity during Shigella infection. Ana T. López-Jiménez, Dominik Brokatzky, Kamla Pillay, Tyrese Williams, Gizem Özbaykal Güler and Serge Mostowy (2024)\n",
        "\n",
        "This notebook allows to classify SETP7+ and SEPT7- associated bacteria."
      ],
      "metadata": {
        "id": "OvkDgOydMkGy"
      }
    },
    {
      "cell_type": "markdown",
      "metadata": {
        "id": "L2Ds3RLKvful"
      },
      "source": [
        "**Importing packages:**\n"
      ]
    },
    {
      "cell_type": "code",
      "metadata": {
        "id": "qW2WdfVEu9L1"
      },
      "source": [
        "from __future__ import absolute_import, division, print_function, unicode_literals\n",
        "import tensorflow as tf\n",
        "from tensorflow import keras\n",
        "from tensorflow.keras.preprocessing.image import ImageDataGenerator\n",
        "import os\n",
        "import numpy as np\n",
        "import matplotlib.pyplot as plt\n",
        "print(tf.__version__)"
      ],
      "execution_count": null,
      "outputs": []
    },
    {
      "cell_type": "code",
      "metadata": {
        "id": "NjgR5wBvCVMB"
      },
      "source": [
        "!pip install pyyaml h5py"
      ],
      "execution_count": null,
      "outputs": []
    },
    {
      "cell_type": "markdown",
      "metadata": {
        "id": "OQgRrZg4wPAs"
      },
      "source": [
        "**Data loading from Google drive**\n"
      ]
    },
    {
      "cell_type": "code",
      "metadata": {
        "id": "_eIt-lBxwYPj"
      },
      "source": [
        "from google.colab import drive\n",
        "root = '/content/gdrive/'\n",
        "drive.mount( root )"
      ],
      "execution_count": null,
      "outputs": []
    },
    {
      "cell_type": "code",
      "metadata": {
        "id": "S_n4bLb7wY8V"
      },
      "source": [
        "\n",
        "import os\n",
        "septin_dir_path = r'/My Drive/folder' # write here directory where files to be analysed are\n",
        "os.makedirs(root+septin_dir_path, exist_ok=True)\n",
        "os.listdir(root+septin_dir_path)\n"
      ],
      "execution_count": null,
      "outputs": []
    },
    {
      "cell_type": "markdown",
      "metadata": {
        "id": "ChvyWq5pxxAH"
      },
      "source": [
        "**Import the Model**\n",
        "\n",
        "For this step, it is required to add the trained model \"model_classification_SEPT7positive_vs_negative.hdf5\" to Google drive, and specify the correct folder here below to retrieve it"
      ]
    },
    {
      "cell_type": "code",
      "metadata": {
        "id": "LqMjTzbjxzf7"
      },
      "source": [
        "from tensorflow.keras import Model\n",
        "from tensorflow.keras import Sequential\n",
        "from tensorflow.keras.layers import Dense,Activation, Dropout, Conv2D, MaxPooling2D, Flatten, BatchNormalization"
      ],
      "execution_count": null,
      "outputs": []
    },
    {
      "cell_type": "code",
      "metadata": {
        "id": "hjomGGHun4zj"
      },
      "source": [
        "\n",
        "new_model = tf.keras.models.load_model('/content/gdrive/My Drive/folder/model_classification_SEPT7positive_vs_negative.hdf5') # Specify the folder containing the model\n",
        "new_model.summary()"
      ],
      "execution_count": null,
      "outputs": []
    },
    {
      "cell_type": "code",
      "metadata": {
        "id": "zGu-iiKo6N1H"
      },
      "source": [
        "opt = keras.optimizers.Adam(learning_rate=0.01)\n",
        "\n",
        "new_model.compile(optimizer=opt,\n",
        "              loss='binary_crossentropy',\n",
        "              metrics=['accuracy'])"
      ],
      "execution_count": null,
      "outputs": []
    },
    {
      "cell_type": "code",
      "metadata": {
        "id": "04v0OL4fwzqj"
      },
      "source": [
        "BATCH_SIZE = 32\n",
        "IMG_SHAPE  = 128 # Our training data consists of images with width of 128 pixels and height of 128 pixels"
      ],
      "execution_count": null,
      "outputs": []
    },
    {
      "cell_type": "code",
      "source": [
        "image_gen_val = ImageDataGenerator(\n",
        "    rescale=1./255,\n",
        "    fill_mode='nearest',)\n",
        "\n",
        "val_data_gen = image_gen_val.flow_from_directory(batch_size=BATCH_SIZE,\n",
        "                                                  directory=root+septin_dir_path,\n",
        "                                                 target_size=(IMG_SHAPE, IMG_SHAPE),\n",
        "                                                 class_mode='binary',\n",
        "\n",
        "                                                 shuffle=False)"
      ],
      "metadata": {
        "id": "ymph6HZ1443C"
      },
      "execution_count": null,
      "outputs": []
    },
    {
      "cell_type": "markdown",
      "source": [
        "**Applying the model and saving results**\n",
        "\n",
        "In this step the model will be applied to generate predictions (0, 1). The results can be saved as a .txt document in the folder specificied here below."
      ],
      "metadata": {
        "id": "FoEpQnjZN7y1"
      }
    },
    {
      "cell_type": "code",
      "metadata": {
        "id": "0O2H80B85jv8"
      },
      "source": [
        "new_data = []\n",
        "file_names = val_data_gen.filenames\n",
        "predict_x=new_model.predict(val_data_gen)\n",
        "classes_x=[1 * (x[0]>=0.5) for x in predict_x]\n",
        "new_data = np.array([file_names, classes_x]).T\n",
        "print(new_data)\n",
        "\n",
        "np.savetxt('/content/gdrive/My Drive/folder/Results_septin.txt', new_data, fmt='%s') # Specify here the output folder\n"
      ],
      "execution_count": null,
      "outputs": []
    }
  ]
}
